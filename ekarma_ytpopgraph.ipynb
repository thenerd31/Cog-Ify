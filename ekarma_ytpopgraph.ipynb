{
 "cells": [
  {
   "cell_type": "code",
   "execution_count": 8,
   "metadata": {},
   "outputs": [],
   "source": [
    "import requests, json\n",
    "import numpy as np\n",
    "\n",
    "def getBestTimeStamps(videoId: str, cutoff: float = 0.8):\n",
    "    url = f'https://yt.lemnoslife.com/videos?part=mostReplayed&id={videoId}'\n",
    "    content = requests.get(url).text\n",
    "    data = json.loads(content)\n",
    "\n",
    "    datapoints = np.empty((100,))\n",
    "    t_step = data['items'][0]['mostReplayed']['heatMarkers'][0]['heatMarkerRenderer']['markerDurationMillis']\n",
    "    for i, heatMarker in enumerate(data['items'][0]['mostReplayed']['heatMarkers']):\n",
    "        heatMarker = heatMarker['heatMarkerRenderer']\n",
    "        intensityScoreNormalized = heatMarker['heatMarkerIntensityScoreNormalized']\n",
    "        datapoints[i] = intensityScoreNormalized\n",
    "\n",
    "    new_start = np.argmax((datapoints[1:] - datapoints[:-1]) > 0)\n",
    "    datapoints[:new_start] = 0\n",
    "    datapoints *= 1 / np.max(datapoints)\n",
    "\n",
    "    peak = np.argmax(datapoints)\n",
    "\n",
    "    good_dp = datapoints > cutoff\n",
    "    prev_dp = ~good_dp[:peak][::-1]\n",
    "    if prev_dp.any():\n",
    "        start_idx = peak - np.argmax(prev_dp)\n",
    "    else:\n",
    "        start_idx = 0\n",
    "\n",
    "    post_dp = ~good_dp[peak:]\n",
    "    if post_dp.any():\n",
    "        end_idx = peak + np.argmax(post_dp)\n",
    "    else:\n",
    "        end_idx = good_dp.shape[0]\n",
    "\n",
    "    start_ms = start_idx * t_step\n",
    "    end_ms = end_idx * t_step\n",
    "\n",
    "    return (start_ms, end_ms)\n",
    "\n",
    "def display_ms(ms):\n",
    "    total_sec = ms // 1000\n",
    "    mts = total_sec // 60\n",
    "    sec = total_sec % 60\n",
    "    print('%d:%.2d' % (mts, sec))"
   ]
  },
  {
   "cell_type": "code",
   "execution_count": 9,
   "metadata": {},
   "outputs": [
    {
     "name": "stdout",
     "output_type": "stream",
     "text": [
      "1480\n",
      "1:08\n",
      "2:28\n",
      "68080\n",
      "148000\n"
     ]
    }
   ],
   "source": [
    "start_ms, end_ms = getBestTimeStamps('q9X9g2t67PM')\n",
    "display_ms(start_ms)\n",
    "display_ms(end_ms)\n",
    "print(start_ms)\n",
    "print(end_ms)"
   ]
  },
  {
   "cell_type": "code",
   "execution_count": null,
   "metadata": {},
   "outputs": [],
   "source": []
  }
 ],
 "metadata": {
  "kernelspec": {
   "display_name": "bwsi-env",
   "language": "python",
   "name": "python3"
  },
  "language_info": {
   "codemirror_mode": {
    "name": "ipython",
    "version": 3
   },
   "file_extension": ".py",
   "mimetype": "text/x-python",
   "name": "python",
   "nbconvert_exporter": "python",
   "pygments_lexer": "ipython3",
   "version": "3.9.6"
  },
  "orig_nbformat": 4
 },
 "nbformat": 4,
 "nbformat_minor": 2
}
