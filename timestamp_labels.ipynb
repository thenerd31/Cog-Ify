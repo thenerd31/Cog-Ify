{
 "cells": [
  {
   "cell_type": "code",
   "execution_count": 1,
   "metadata": {},
   "outputs": [],
   "source": [
    "import pandas as pd\n",
    "import numpy as np\n",
    "import scipy"
   ]
  },
  {
   "cell_type": "code",
   "execution_count": 2,
   "metadata": {},
   "outputs": [],
   "source": [
    "ncs = pd.read_csv('outgood.csv', sep=';')"
   ]
  },
  {
   "cell_type": "code",
   "execution_count": 3,
   "metadata": {},
   "outputs": [
    {
     "data": {
      "text/plain": [
       "(4283, 120)"
      ]
     },
     "execution_count": 3,
     "metadata": {},
     "output_type": "execute_result"
    }
   ],
   "source": [
    "VID_LEN = ncs.shape[0]\n",
    "BINS_LEN = 120\n",
    "labels = np.zeros((VID_LEN, BINS_LEN))\n",
    "labels.shape"
   ]
  },
  {
   "cell_type": "code",
   "execution_count": 4,
   "metadata": {},
   "outputs": [
    {
     "name": "stdout",
     "output_type": "stream",
     "text": [
      "(4283, 100)\n",
      "(4283,)\n",
      "(4283,)\n"
     ]
    }
   ],
   "source": [
    "datapoints = ncs[[f'datapoint_{i}' for i in range(100)]].values\n",
    "print(datapoints.shape)\n",
    "durations = ncs['duration'].values\n",
    "print(durations.shape)\n",
    "t_steps = durations / 100\n",
    "print(t_steps.shape)"
   ]
  },
  {
   "cell_type": "code",
   "execution_count": 5,
   "metadata": {},
   "outputs": [
    {
     "data": {
      "text/plain": [
       "(4283, 100)"
      ]
     },
     "execution_count": 5,
     "metadata": {},
     "output_type": "execute_result"
    }
   ],
   "source": [
    "DP_LEN = datapoints.shape[1]\n",
    "timepoints = np.arange(DP_LEN)[np.newaxis, :] * t_steps[:, np.newaxis]\n",
    "timepoints.shape"
   ]
  },
  {
   "cell_type": "code",
   "execution_count": 6,
   "metadata": {},
   "outputs": [
    {
     "data": {
      "text/plain": [
       "(4283, 120)"
      ]
     },
     "execution_count": 6,
     "metadata": {},
     "output_type": "execute_result"
    }
   ],
   "source": [
    "SONG_LEN = 240\n",
    "BIN_TIME = 2\n",
    "\n",
    "for i in range(VID_LEN):\n",
    "    cubic_spline = scipy.interpolate.CubicSpline(timepoints[i], datapoints[i])\n",
    "    data_interp = cubic_spline(np.arange(SONG_LEN) + 0.5)\n",
    "    labels[i] = data_interp.reshape((BINS_LEN, BIN_TIME)).mean(axis=-1)\n",
    "\n",
    "labels[np.arange(BINS_LEN)[np.newaxis, :] >= durations[:, np.newaxis] // BIN_TIME] = 0\n",
    "labels[labels < 0] = 0\n",
    "labels *= 1 / labels.max(axis=-1)[:, np.newaxis]\n",
    "labels.shape"
   ]
  },
  {
   "cell_type": "code",
   "execution_count": 10,
   "metadata": {},
   "outputs": [],
   "source": [
    "import pickle\n",
    "import blosc\n",
    "\n",
    "pickled_data = pickle.dumps(labels)\n",
    "compressed_pickle = blosc.compress(pickled_data)\n",
    "\n",
    "with open(f'timestamp_labels/timestamp_labels.dat', 'wb') as f:\n",
    "    f.write(compressed_pickle)"
   ]
  },
  {
   "cell_type": "code",
   "execution_count": null,
   "metadata": {},
   "outputs": [],
   "source": []
  }
 ],
 "metadata": {
  "kernelspec": {
   "display_name": "bwsi-env",
   "language": "python",
   "name": "python3"
  },
  "language_info": {
   "codemirror_mode": {
    "name": "ipython",
    "version": 3
   },
   "file_extension": ".py",
   "mimetype": "text/x-python",
   "name": "python",
   "nbconvert_exporter": "python",
   "pygments_lexer": "ipython3",
   "version": "3.9.6"
  },
  "orig_nbformat": 4
 },
 "nbformat": 4,
 "nbformat_minor": 2
}
